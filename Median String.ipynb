{
 "cells": [
  {
   "cell_type": "code",
   "execution_count": 121,
   "metadata": {},
   "outputs": [],
   "source": [
    "def HammingDistance(pattern1, pattern2):\n",
    "    count=0\n",
    "    for i in range(0,len(pattern1)):\n",
    "        if pattern1[i]!=pattern2[i]:\n",
    "            count+=1\n",
    "    return count   "
   ]
  },
  {
   "cell_type": "code",
   "execution_count": 146,
   "metadata": {},
   "outputs": [
    {
     "data": {
      "text/plain": [
       "1"
      ]
     },
     "execution_count": 146,
     "metadata": {},
     "output_type": "execute_result"
    }
   ],
   "source": [
    "HammingDistance('CCA','CGA')"
   ]
  },
  {
   "cell_type": "code",
   "execution_count": 144,
   "metadata": {},
   "outputs": [],
   "source": [
    "def d(pattern,text):\n",
    "    L=[]\n",
    "    for i in range(0,len(text)-len(pattern)+1):\n",
    "        pattern2=text[i:i+len(pattern)]\n",
    "        L.append(HammingDistance(pattern,pattern2))\n",
    "    return min(L)"
   ]
  },
  {
   "cell_type": "code",
   "execution_count": 145,
   "metadata": {},
   "outputs": [
    {
     "data": {
      "text/plain": [
       "1"
      ]
     },
     "execution_count": 145,
     "metadata": {},
     "output_type": "execute_result"
    }
   ],
   "source": [
    "d('CCA','AGTACGGGACAG')"
   ]
  },
  {
   "cell_type": "code",
   "execution_count": 147,
   "metadata": {},
   "outputs": [],
   "source": [
    "def d_dna(pattern, listofdna):\n",
    "    L1=[]\n",
    "    for text in listofdna:\n",
    "        L1.append(d(pattern,text))\n",
    "    return sum(L1)"
   ]
  },
  {
   "cell_type": "code",
   "execution_count": 176,
   "metadata": {},
   "outputs": [
    {
     "data": {
      "text/plain": [
       "5"
      ]
     },
     "execution_count": 176,
     "metadata": {},
     "output_type": "execute_result"
    }
   ],
   "source": [
    "listofdna=['CCTCCCCGCGTCGGATATTCCCTATGTGCTTTATGAAGCGTC',\n",
    "'TGAACGGGTGAAGGGTATAATCAGTGTGGCTGGGGACGCAAG',\n",
    "'TCAAAGGCGGAGTTAGGTTTCCACTTCAGCATCTAGGGCTAT',\n",
    "'TGGGGATAGACTAGGTACACTTCACGGCGGGGCTATGTAACT',\n",
    "'CAGGGGCCGGTGCCATATGGTTATTAAAAAGCAATGTCCTGG',\n",
    "'CTGACGTCAAATGGACGAATTTGGTTAGCACCCACTGGCAGC',\n",
    "'GGCTATAGTCAGAGTAACAGTTCCCGATTGTCAGACACAACA',\n",
    "'CCTGTCGGCTATACCCCAAGGGAAAGCGGAGCATTAGAAATG',\n",
    "'GGATATAATATGCCCAGTGCGAGCATTGTAGTCGATATACGT',\n",
    "'GGCTATCCTTTATAAGAGAACGGAGATGTCGGGCCCGGAAAG']\n",
    "\n"
   ]
  },
  {
   "cell_type": "code",
   "execution_count": 152,
   "metadata": {},
   "outputs": [],
   "source": [
    "import pandas"
   ]
  },
  {
   "cell_type": "code",
   "execution_count": 178,
   "metadata": {},
   "outputs": [],
   "source": [
    "def Median_string(listofdna,n):\n",
    "    dic=[]\n",
    "    dec2=[]\n",
    "    for text in listofdna:\n",
    "        for i in range(0,len(text)-n):\n",
    "            pattern=text[i:i+n]\n",
    "            if pattern not in dic:\n",
    "                dic.append(pattern)\n",
    "                dec2.append(d_dna(pattern,listofdna))\n",
    "    return dic[dec2.index(min(dec2))]\n",
    "    \n",
    "            "
   ]
  },
  {
   "cell_type": "code",
   "execution_count": 179,
   "metadata": {},
   "outputs": [
    {
     "data": {
      "text/plain": [
       "'GGCTAT'"
      ]
     },
     "execution_count": 179,
     "metadata": {},
     "output_type": "execute_result"
    }
   ],
   "source": [
    "Median_string(listofdna,6)"
   ]
  },
  {
   "cell_type": "code",
   "execution_count": null,
   "metadata": {},
   "outputs": [],
   "source": []
  }
 ],
 "metadata": {
  "kernelspec": {
   "display_name": "Python 3",
   "language": "python",
   "name": "python3"
  },
  "language_info": {
   "codemirror_mode": {
    "name": "ipython",
    "version": 3
   },
   "file_extension": ".py",
   "mimetype": "text/x-python",
   "name": "python",
   "nbconvert_exporter": "python",
   "pygments_lexer": "ipython3",
   "version": "3.7.4"
  }
 },
 "nbformat": 4,
 "nbformat_minor": 2
}
